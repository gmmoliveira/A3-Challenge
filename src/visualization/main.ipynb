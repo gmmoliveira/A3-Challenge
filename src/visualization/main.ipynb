{
 "cells": [
  {
   "cell_type": "markdown",
   "id": "78d94202",
   "metadata": {},
   "source": [
    "## Imports\n",
    "\n",
    "Imports the necessary libraries to perform the tests"
   ]
  },
  {
   "cell_type": "code",
   "execution_count": 1,
   "id": "ce9e5a4d",
   "metadata": {},
   "outputs": [],
   "source": [
    "import json\n",
    "import requests\n",
    "from typing import Dict"
   ]
  },
  {
   "cell_type": "markdown",
   "id": "13a235dd",
   "metadata": {},
   "source": [
    "## Definition of Constants"
   ]
  },
  {
   "cell_type": "code",
   "execution_count": 2,
   "id": "cb221f33",
   "metadata": {},
   "outputs": [],
   "source": [
    "TEST_CASES_PATH = \"../../assets/endpoint_test_cases/tests.json\"\n",
    "BASE_URL = \"http://localhost:8000/\"\n",
    "PROCESS_URL = f\"{BASE_URL}extract_incident\"\n",
    "HEALTH_URL = f\"{BASE_URL}health\"\n",
    "HEADERS = {\"Content-Type\": \"application/json\"}"
   ]
  },
  {
   "cell_type": "markdown",
   "id": "80b9a95f",
   "metadata": {},
   "source": [
    "## Reading the Mock Data\n",
    "\n",
    "Reads the json file containing the mock data for testing."
   ]
  },
  {
   "cell_type": "code",
   "execution_count": 3,
   "id": "6d291f95",
   "metadata": {},
   "outputs": [],
   "source": [
    "# Read the JSON file containing the example messages to parse\n",
    "with open(TEST_CASES_PATH, 'r', encoding='utf-8') as file:\n",
    "    data = json.load(file)\n",
    "\n",
    "test_cases_data = data[\"test_cases\"]"
   ]
  },
  {
   "cell_type": "markdown",
   "id": "8daa1fd9",
   "metadata": {},
   "source": [
    "## Requesting the Agentic Workflow Endpoint(s)"
   ]
  },
  {
   "cell_type": "code",
   "execution_count": 4,
   "id": "ac78bac2",
   "metadata": {},
   "outputs": [
    {
     "name": "stdout",
     "output_type": "stream",
     "text": [
      "Remove server health check:\n",
      "{'status': 'healthy', 'workflow_initialized': True}\n",
      "--------------------------------------------------------------------------------\n",
      "Starting the requests for the agentic workflow...\n",
      "--------------------------------------------------------------------------------\n",
      "Input text: Na última segunda-feira (10/03) às 09:30, na filial do Rio de Janeiro, ocorreu um vazamento de dados sensíveis que comprometeu informações de clientes por aproximadamente 5 horas.\n",
      "Returned answer: {'status': 'success', 'message': {'data_ocorrencia': '2025-03-10 09:30', 'local': 'Rio de Janeiro', 'tipo_incidente': 'Vazamento de dados sensíveis', 'impacto': 'Informações de clientes comprometidas por aproximadamente 5 horas'}}\n",
      "Expected output: {'status': 'success', 'message': {'data_ocorrencia': '2025-03-10 09:30', 'local': 'Rio de Janeiro', 'tipo_incidente': 'Vazamento de dados', 'impacto': 'Informações de clientes comprometidas por 5 horas'}}\n",
      "--------------------------------------------------------------------------------\n",
      "Input text: Yesterday at 3:15 PM, at the New York data center, a network outage disrupted all online services for 45 minutes during peak hours.\n",
      "Returned answer: {'status': 'success', 'message': {'data_ocorrencia': '2025-08-19 15:15', 'local': 'New York', 'tipo_incidente': 'Network outage', 'impacto': 'All online services disrupted for 45 minutes during peak hours'}}\n",
      "Expected output: {'status': 'success', 'message': {'data_ocorrencia': '2025-08-18 15:15', 'local': 'New York', 'tipo_incidente': 'Network outage', 'impacto': 'Todos os serviços online indisponíveis por 45 minutos'}}\n",
      "--------------------------------------------------------------------------------\n",
      "Input text: Em 2025-07-25 às 08:00, no data center de Frankfurt, uma falha de energia causou desligamento não planejado dos servidores críticos por 30 minutos.\n",
      "Returned answer: {'status': 'success', 'message': {'data_ocorrencia': '2025-07-25 08:00', 'local': 'Datacenter de Frankfurt', 'tipo_incidente': 'Interrupção de energia', 'impacto': 'Desligamento não planejado dos servidores críticos por 30 minutos'}}\n",
      "Expected output: {'status': 'success', 'message': {'data_ocorrencia': '2025-07-25 08:00', 'local': 'Frankfurt', 'tipo_incidente': 'Falha de energia', 'impacto': 'Servidores críticos desligados por 30 minutos'}}\n",
      "--------------------------------------------------------------------------------\n",
      "Input text: No dia 15/08 às 23:40, no escritório de Lisboa, um ataque de ransomware criptografou os arquivos principais, afetando as operações por 12 horas.\n",
      "Returned answer: {'status': 'success', 'message': {'data_ocorrencia': '2025-08-15 23:40', 'local': 'Escritório de Lisboa', 'tipo_incidente': 'Ataque de ransomware', 'impacto': 'Arquivos principais criptografados, afetando as operações por 12 horas'}}\n",
      "Expected output: {'status': 'success', 'message': {'data_ocorrencia': '2025-08-15 23:40', 'local': 'Lisboa', 'tipo_incidente': 'Ataque de ransomware', 'impacto': 'Arquivos principais criptografados, operações afetadas por 12 horas'}}\n",
      "--------------------------------------------------------------------------------\n",
      "Input text: This morning at 11:20, at the London office, a fire alarm triggered evacuation and caused complete work interruption for 2 hours.\n",
      "Returned answer: {'status': 'success', 'message': {'data_ocorrencia': '2025-08-20 11:20', 'local': 'London office', 'tipo_incidente': 'Fire alarm triggered evacuation', 'impacto': 'Complete work interruption for 2 hours'}}\n",
      "Expected output: {'status': 'success', 'message': {'data_ocorrencia': '2025-08-19 11:20', 'local': 'London', 'tipo_incidente': 'Fire alarm evacuation', 'impacto': 'Interrupção completa do trabalho por 2 horas'}}\n",
      "--------------------------------------------------------------------------------\n",
      "Input text: Hoje às 14:00, na matriz em São Paulo, uma pane no sistema de CRM impossibilitou o atendimento ao cliente por 3 horas.\n",
      "Returned answer: {'status': 'success', 'message': {'data_ocorrencia': '2025-08-20 14:00', 'local': 'Matriz em São Paulo', 'tipo_incidente': 'Falha no sistema de CRM', 'impacto': 'Atendimento ao cliente impossibilitado por 3 horas'}}\n",
      "Expected output: {'status': 'success', 'message': {'data_ocorrencia': '2025-08-19 14:00', 'local': 'São Paulo', 'tipo_incidente': 'Pane no sistema de CRM', 'impacto': 'Atendimento ao cliente impossibilitado por 3 horas'}}\n",
      "--------------------------------------------------------------------------------\n",
      "Input text: On August 5th at 2:00 AM, at the Tokyo server farm, a cooling system failure caused overheating and automatic shutdown of 15 servers for 4 hours.\n",
      "Returned answer: {'status': 'success', 'message': {'data_ocorrencia': '2025-08-05 02:00', 'local': 'Tokyo server farm', 'tipo_incidente': 'Cooling system failure', 'impacto': 'Overheating and automatic shutdown of 15 servers for 4 hours'}}\n",
      "Expected output: {'status': 'success', 'message': {'data_ocorrencia': '2025-08-05 02:00', 'local': 'Tokyo', 'tipo_incidente': 'Cooling system failure', 'impacto': 'Superaquecimento e desligamento automático de 15 servidores por 4 horas'}}\n",
      "--------------------------------------------------------------------------------\n",
      "Input text: Dia 30/07 às 16:55, no call center de Curitiba, uma falha na PABX interrompeu todas as linhas telefônicas por 1 hora e meia.\n",
      "Returned answer: {'status': 'success', 'message': {'data_ocorrencia': '2025-07-30 16:55', 'local': 'Curitiba', 'tipo_incidente': 'Falha no PABX', 'impacto': 'Interrupção de todas as linhas telefônicas por 1 hora e meia'}}\n",
      "Expected output: {'status': 'success', 'message': {'data_ocorrencia': '2025-07-30 16:55', 'local': 'Curitiba', 'tipo_incidente': 'Falha na PABX', 'impacto': 'Todas as linhas telefônicas interrompidas por 1.5 horas'}}\n",
      "--------------------------------------------------------------------------------\n",
      "Input text: Last Friday at 10:45 AM, in the Sydney branch, a security breach was detected that compromised user credentials and required password resets for all employees.\n",
      "Returned answer: {'status': 'success', 'message': {'data_ocorrencia': '2025-08-16 10:45', 'local': 'Sydney', 'tipo_incidente': 'Security breach', 'impacto': 'Password resets required for all employees'}}\n",
      "Expected output: {'status': 'success', 'message': {'data_ocorrencia': '2025-08-15 10:45', 'local': 'Sydney', 'tipo_incidente': 'Security breach', 'impacto': 'Credenciais de usuário comprometidas, reset de senhas necessário para todos os funcionários'}}\n",
      "--------------------------------------------------------------------------------\n",
      "Input text: Em 2025-06-12 às 13:20, na fábrica de Campinas, uma falha no sistema automatizado paralisou a produção por 6 horas, causando atraso na entrega.\n",
      "Returned answer: {'status': 'success', 'message': {'data_ocorrencia': '2025-06-12 13:20', 'local': 'Campinas', 'tipo_incidente': 'Falha no sistema automatizado', 'impacto': 'Produção paralisada por 6 horas, causando atraso na entrega'}}\n",
      "Expected output: {'status': 'success', 'message': {'data_ocorrencia': '2025-06-12 13:20', 'local': 'Campinas', 'tipo_incidente': 'Falha no sistema automatizado', 'impacto': 'Produção paralisada por 6 horas com atraso na entrega'}}\n",
      "--------------------------------------------------------------------------------\n"
     ]
    }
   ],
   "source": [
    "\n",
    "def process_requests(\n",
    "    headers: Dict[str, str] = HEADERS,\n",
    "    url: str = PROCESS_URL,\n",
    "    health_url: str = HEALTH_URL,\n",
    "):\n",
    "    # Begins by testing the health of the remote server\n",
    "    health_reply = requests.get(health_url).json()\n",
    "    print(\"Remove server health check:\")\n",
    "    print(f\"{health_reply}\")\n",
    "    print(\"-\" * 80)\n",
    "    print(\"Starting the requests for the agentic workflow...\")\n",
    "    print(\"-\" * 80)\n",
    "    for case in test_cases_data:\n",
    "        input_text = case['input']\n",
    "        payload = {\"base_text\": input_text}\n",
    "        \n",
    "        try:\n",
    "            response = requests.post(url, json=payload, headers=headers)\n",
    "            response.raise_for_status()  # Raise an exception for HTTP errors\n",
    "            result = response.json()\n",
    "        except requests.exceptions.RequestException as e:\n",
    "            print(f\"Request failed for input: {input_text}\")\n",
    "            print(f\"Error: {e}\")\n",
    "            result = None\n",
    "        \n",
    "        print(\"Input text:\", input_text)\n",
    "        print(\"Returned answer:\", result)\n",
    "        print(\"Expected output:\", {'status': 'success', 'message': case['output']})\n",
    "        print(\"-\" * 80)\n",
    "\n",
    "\n",
    "process_requests()"
   ]
  }
 ],
 "metadata": {
  "kernelspec": {
   "display_name": "venv",
   "language": "python",
   "name": "python3"
  },
  "language_info": {
   "codemirror_mode": {
    "name": "ipython",
    "version": 3
   },
   "file_extension": ".py",
   "mimetype": "text/x-python",
   "name": "python",
   "nbconvert_exporter": "python",
   "pygments_lexer": "ipython3",
   "version": "3.11.11"
  }
 },
 "nbformat": 4,
 "nbformat_minor": 5
}
